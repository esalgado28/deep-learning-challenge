{
 "cells": [
  {
   "cell_type": "markdown",
   "metadata": {
    "id": "XrDNpYTs7CQY"
   },
   "source": [
    "## Preprocessing"
   ]
  },
  {
   "cell_type": "code",
   "execution_count": 1,
   "metadata": {
    "colab": {
     "base_uri": "https://localhost:8080/",
     "height": 496
    },
    "id": "5lJi0r657CQc",
    "outputId": "3e7aaa59-2a77-4146-8a69-86f1514c98b0"
   },
   "outputs": [
    {
     "data": {
      "text/html": [
       "<div>\n",
       "<style scoped>\n",
       "    .dataframe tbody tr th:only-of-type {\n",
       "        vertical-align: middle;\n",
       "    }\n",
       "\n",
       "    .dataframe tbody tr th {\n",
       "        vertical-align: top;\n",
       "    }\n",
       "\n",
       "    .dataframe thead th {\n",
       "        text-align: right;\n",
       "    }\n",
       "</style>\n",
       "<table border=\"1\" class=\"dataframe\">\n",
       "  <thead>\n",
       "    <tr style=\"text-align: right;\">\n",
       "      <th></th>\n",
       "      <th>EIN</th>\n",
       "      <th>NAME</th>\n",
       "      <th>APPLICATION_TYPE</th>\n",
       "      <th>AFFILIATION</th>\n",
       "      <th>CLASSIFICATION</th>\n",
       "      <th>USE_CASE</th>\n",
       "      <th>ORGANIZATION</th>\n",
       "      <th>STATUS</th>\n",
       "      <th>INCOME_AMT</th>\n",
       "      <th>SPECIAL_CONSIDERATIONS</th>\n",
       "      <th>ASK_AMT</th>\n",
       "      <th>IS_SUCCESSFUL</th>\n",
       "    </tr>\n",
       "  </thead>\n",
       "  <tbody>\n",
       "    <tr>\n",
       "      <th>0</th>\n",
       "      <td>10520599</td>\n",
       "      <td>BLUE KNIGHTS MOTORCYCLE CLUB</td>\n",
       "      <td>T10</td>\n",
       "      <td>Independent</td>\n",
       "      <td>C1000</td>\n",
       "      <td>ProductDev</td>\n",
       "      <td>Association</td>\n",
       "      <td>1</td>\n",
       "      <td>0</td>\n",
       "      <td>N</td>\n",
       "      <td>5000</td>\n",
       "      <td>1</td>\n",
       "    </tr>\n",
       "    <tr>\n",
       "      <th>1</th>\n",
       "      <td>10531628</td>\n",
       "      <td>AMERICAN CHESAPEAKE CLUB CHARITABLE TR</td>\n",
       "      <td>T3</td>\n",
       "      <td>Independent</td>\n",
       "      <td>C2000</td>\n",
       "      <td>Preservation</td>\n",
       "      <td>Co-operative</td>\n",
       "      <td>1</td>\n",
       "      <td>1-9999</td>\n",
       "      <td>N</td>\n",
       "      <td>108590</td>\n",
       "      <td>1</td>\n",
       "    </tr>\n",
       "    <tr>\n",
       "      <th>2</th>\n",
       "      <td>10547893</td>\n",
       "      <td>ST CLOUD PROFESSIONAL FIREFIGHTERS</td>\n",
       "      <td>T5</td>\n",
       "      <td>CompanySponsored</td>\n",
       "      <td>C3000</td>\n",
       "      <td>ProductDev</td>\n",
       "      <td>Association</td>\n",
       "      <td>1</td>\n",
       "      <td>0</td>\n",
       "      <td>N</td>\n",
       "      <td>5000</td>\n",
       "      <td>0</td>\n",
       "    </tr>\n",
       "    <tr>\n",
       "      <th>3</th>\n",
       "      <td>10553066</td>\n",
       "      <td>SOUTHSIDE ATHLETIC ASSOCIATION</td>\n",
       "      <td>T3</td>\n",
       "      <td>CompanySponsored</td>\n",
       "      <td>C2000</td>\n",
       "      <td>Preservation</td>\n",
       "      <td>Trust</td>\n",
       "      <td>1</td>\n",
       "      <td>10000-24999</td>\n",
       "      <td>N</td>\n",
       "      <td>6692</td>\n",
       "      <td>1</td>\n",
       "    </tr>\n",
       "    <tr>\n",
       "      <th>4</th>\n",
       "      <td>10556103</td>\n",
       "      <td>GENETIC RESEARCH INSTITUTE OF THE DESERT</td>\n",
       "      <td>T3</td>\n",
       "      <td>Independent</td>\n",
       "      <td>C1000</td>\n",
       "      <td>Heathcare</td>\n",
       "      <td>Trust</td>\n",
       "      <td>1</td>\n",
       "      <td>100000-499999</td>\n",
       "      <td>N</td>\n",
       "      <td>142590</td>\n",
       "      <td>1</td>\n",
       "    </tr>\n",
       "  </tbody>\n",
       "</table>\n",
       "</div>"
      ],
      "text/plain": [
       "        EIN                                      NAME APPLICATION_TYPE  \\\n",
       "0  10520599              BLUE KNIGHTS MOTORCYCLE CLUB              T10   \n",
       "1  10531628    AMERICAN CHESAPEAKE CLUB CHARITABLE TR               T3   \n",
       "2  10547893        ST CLOUD PROFESSIONAL FIREFIGHTERS               T5   \n",
       "3  10553066            SOUTHSIDE ATHLETIC ASSOCIATION               T3   \n",
       "4  10556103  GENETIC RESEARCH INSTITUTE OF THE DESERT               T3   \n",
       "\n",
       "        AFFILIATION CLASSIFICATION      USE_CASE  ORGANIZATION  STATUS  \\\n",
       "0       Independent          C1000    ProductDev   Association       1   \n",
       "1       Independent          C2000  Preservation  Co-operative       1   \n",
       "2  CompanySponsored          C3000    ProductDev   Association       1   \n",
       "3  CompanySponsored          C2000  Preservation         Trust       1   \n",
       "4       Independent          C1000     Heathcare         Trust       1   \n",
       "\n",
       "      INCOME_AMT SPECIAL_CONSIDERATIONS  ASK_AMT  IS_SUCCESSFUL  \n",
       "0              0                      N     5000              1  \n",
       "1         1-9999                      N   108590              1  \n",
       "2              0                      N     5000              0  \n",
       "3    10000-24999                      N     6692              1  \n",
       "4  100000-499999                      N   142590              1  "
      ]
     },
     "execution_count": 1,
     "metadata": {},
     "output_type": "execute_result"
    }
   ],
   "source": [
    "# Import our dependencies\n",
    "from sklearn.model_selection import train_test_split\n",
    "from sklearn.preprocessing import StandardScaler\n",
    "import pandas as pd\n",
    "import tensorflow as tf\n",
    "\n",
    "#  Import and read the charity_data.csv.\n",
    "import pandas as pd \n",
    "application_df = pd.read_csv(\"Resources/charity_data.csv\")\n",
    "application_df.head()"
   ]
  },
  {
   "cell_type": "code",
   "execution_count": 2,
   "metadata": {
    "id": "fL6-QxS87CQd"
   },
   "outputs": [],
   "source": [
    "# Drop the non-beneficial ID columns, 'EIN' and 'NAME'.\n",
    "application_df.drop(columns=['EIN', 'NAME'], inplace=True)"
   ]
  },
  {
   "cell_type": "code",
   "execution_count": 3,
   "metadata": {
    "colab": {
     "base_uri": "https://localhost:8080/"
    },
    "id": "Q5earKty7CQe",
    "outputId": "a28b4c70-f9b1-47db-c852-ad8a0bd8ae99"
   },
   "outputs": [
    {
     "data": {
      "text/plain": [
       "APPLICATION_TYPE            17\n",
       "AFFILIATION                  6\n",
       "CLASSIFICATION              71\n",
       "USE_CASE                     5\n",
       "ORGANIZATION                 4\n",
       "STATUS                       2\n",
       "INCOME_AMT                   9\n",
       "SPECIAL_CONSIDERATIONS       2\n",
       "ASK_AMT                   8747\n",
       "IS_SUCCESSFUL                2\n",
       "dtype: int64"
      ]
     },
     "execution_count": 3,
     "metadata": {},
     "output_type": "execute_result"
    }
   ],
   "source": [
    "# Determine the number of unique values in each column.\n",
    "application_df.nunique()"
   ]
  },
  {
   "cell_type": "code",
   "execution_count": 4,
   "metadata": {
    "colab": {
     "base_uri": "https://localhost:8080/"
    },
    "id": "7RdM7qU87CQe",
    "outputId": "8532f638-b2cd-41b2-fced-23a2edaed03e"
   },
   "outputs": [
    {
     "data": {
      "text/plain": [
       "T3     27037\n",
       "T4      1542\n",
       "T6      1216\n",
       "T5      1173\n",
       "T19     1065\n",
       "T8       737\n",
       "T7       725\n",
       "T10      528\n",
       "T9       156\n",
       "T13       66\n",
       "T12       27\n",
       "T2        16\n",
       "T25        3\n",
       "T14        3\n",
       "T29        2\n",
       "T15        2\n",
       "T17        1\n",
       "Name: APPLICATION_TYPE, dtype: int64"
      ]
     },
     "execution_count": 4,
     "metadata": {},
     "output_type": "execute_result"
    }
   ],
   "source": [
    "# Look at APPLICATION_TYPE value counts for binning\n",
    "application_df['APPLICATION_TYPE'].value_counts()"
   ]
  },
  {
   "cell_type": "code",
   "execution_count": 5,
   "metadata": {
    "colab": {
     "base_uri": "https://localhost:8080/"
    },
    "id": "SkquLHCe7CQe",
    "outputId": "aca961fd-6b78-414a-f594-09c3df23cfb5"
   },
   "outputs": [
    {
     "data": {
      "text/plain": [
       "T3       27037\n",
       "T4        1542\n",
       "T6        1216\n",
       "T5        1173\n",
       "T19       1065\n",
       "T8         737\n",
       "T7         725\n",
       "T10        528\n",
       "Other      276\n",
       "Name: APPLICATION_TYPE, dtype: int64"
      ]
     },
     "execution_count": 5,
     "metadata": {},
     "output_type": "execute_result"
    }
   ],
   "source": [
    "# Choose a cutoff value and create a list of application types to be replaced\n",
    "# use the variable name `application_types_to_replace`\n",
    "application_types_to_replace = ['T17', 'T15', 'T29', 'T14', 'T25', 'T2', 'T12', 'T13', 'T9']\n",
    "\n",
    "# Replace in dataframe\n",
    "for app in application_types_to_replace:\n",
    "    application_df['APPLICATION_TYPE'] = application_df['APPLICATION_TYPE'].replace(app,\"Other\")\n",
    "\n",
    "# Check to make sure binning was successful\n",
    "application_df['APPLICATION_TYPE'].value_counts()"
   ]
  },
  {
   "cell_type": "code",
   "execution_count": 6,
   "metadata": {
    "colab": {
     "base_uri": "https://localhost:8080/"
    },
    "id": "yG7yOkMZ7CQf",
    "outputId": "6680f84d-69c6-494a-d00f-366b18115271"
   },
   "outputs": [
    {
     "data": {
      "text/plain": [
       "C1000    17326\n",
       "C2000     6074\n",
       "C1200     4837\n",
       "C3000     1918\n",
       "C2100     1883\n",
       "         ...  \n",
       "C4120        1\n",
       "C8210        1\n",
       "C2561        1\n",
       "C4500        1\n",
       "C2150        1\n",
       "Name: CLASSIFICATION, Length: 71, dtype: int64"
      ]
     },
     "execution_count": 6,
     "metadata": {},
     "output_type": "execute_result"
    }
   ],
   "source": [
    "# Look at CLASSIFICATION value counts for binning\n",
    "application_df['CLASSIFICATION'].value_counts()"
   ]
  },
  {
   "cell_type": "code",
   "execution_count": 2,
   "metadata": {
    "colab": {
     "base_uri": "https://localhost:8080/"
    },
    "id": "he6ciWdx7CQg",
    "outputId": "e12decdb-d736-448c-9307-175d003d764a"
   },
   "outputs": [
    {
     "ename": "NameError",
     "evalue": "name 'application_df' is not defined",
     "output_type": "error",
     "traceback": [
      "\u001b[1;31m---------------------------------------------------------------------------\u001b[0m",
      "\u001b[1;31mNameError\u001b[0m                                 Traceback (most recent call last)",
      "\u001b[1;32m~\\AppData\\Local\\Temp/ipykernel_17696/4265605840.py\u001b[0m in \u001b[0;36m<module>\u001b[1;34m\u001b[0m\n\u001b[0;32m      1\u001b[0m \u001b[1;31m# You may find it helpful to look at CLASSIFICATION value counts >1\u001b[0m\u001b[1;33m\u001b[0m\u001b[1;33m\u001b[0m\u001b[0m\n\u001b[1;32m----> 2\u001b[1;33m \u001b[0mapplication_df\u001b[0m\u001b[1;33m[\u001b[0m\u001b[1;34m'CLASSIFICATION'\u001b[0m\u001b[1;33m]\u001b[0m\u001b[1;33m.\u001b[0m\u001b[0mvalue_counts\u001b[0m\u001b[1;33m(\u001b[0m\u001b[1;33m)\u001b[0m\u001b[1;33m[\u001b[0m\u001b[0mapplication_df\u001b[0m\u001b[1;33m[\u001b[0m\u001b[1;34m'CLASSIFICATION'\u001b[0m\u001b[1;33m]\u001b[0m\u001b[1;33m.\u001b[0m\u001b[0mvalue_counts\u001b[0m\u001b[1;33m(\u001b[0m\u001b[1;33m)\u001b[0m \u001b[1;33m>\u001b[0m \u001b[1;36m1\u001b[0m\u001b[1;33m]\u001b[0m\u001b[1;33m\u001b[0m\u001b[1;33m\u001b[0m\u001b[0m\n\u001b[0m",
      "\u001b[1;31mNameError\u001b[0m: name 'application_df' is not defined"
     ]
    }
   ],
   "source": [
    "# You may find it helpful to look at CLASSIFICATION value counts >1\n",
    "application_df['CLASSIFICATION'].value_counts()[application_df['CLASSIFICATION'].value_counts() > 1]"
   ]
  },
  {
   "cell_type": "code",
   "execution_count": 1,
   "metadata": {
    "colab": {
     "base_uri": "https://localhost:8080/"
    },
    "id": "8ksr2W287CQh",
    "outputId": "17f1c2da-76b5-4560-b83c-231bd3e5d839"
   },
   "outputs": [
    {
     "ename": "NameError",
     "evalue": "name 'application_df' is not defined",
     "output_type": "error",
     "traceback": [
      "\u001b[1;31m---------------------------------------------------------------------------\u001b[0m",
      "\u001b[1;31mNameError\u001b[0m                                 Traceback (most recent call last)",
      "\u001b[1;32m~\\AppData\\Local\\Temp/ipykernel_17696/1013955143.py\u001b[0m in \u001b[0;36m<module>\u001b[1;34m\u001b[0m\n\u001b[0;32m      1\u001b[0m \u001b[1;31m# Choose a cutoff value and create a list of classifications to be replaced\u001b[0m\u001b[1;33m\u001b[0m\u001b[1;33m\u001b[0m\u001b[0m\n\u001b[0;32m      2\u001b[0m \u001b[1;31m# use the variable name `classifications_to_replace`\u001b[0m\u001b[1;33m\u001b[0m\u001b[1;33m\u001b[0m\u001b[0m\n\u001b[1;32m----> 3\u001b[1;33m \u001b[0mclassifications_to_replace\u001b[0m \u001b[1;33m=\u001b[0m \u001b[0mlist\u001b[0m\u001b[1;33m(\u001b[0m\u001b[0mapplication_df\u001b[0m\u001b[1;33m[\u001b[0m\u001b[1;34m'CLASSIFICATION'\u001b[0m\u001b[1;33m]\u001b[0m\u001b[1;33m.\u001b[0m\u001b[0mvalue_counts\u001b[0m\u001b[1;33m(\u001b[0m\u001b[1;33m)\u001b[0m\u001b[1;33m[\u001b[0m\u001b[0mapplication_df\u001b[0m\u001b[1;33m[\u001b[0m\u001b[1;34m'CLASSIFICATION'\u001b[0m\u001b[1;33m]\u001b[0m\u001b[1;33m.\u001b[0m\u001b[0mvalue_counts\u001b[0m\u001b[1;33m(\u001b[0m\u001b[1;33m)\u001b[0m \u001b[1;33m<\u001b[0m \u001b[1;36m1000\u001b[0m\u001b[1;33m]\u001b[0m\u001b[1;33m.\u001b[0m\u001b[0mindex\u001b[0m\u001b[1;33m)\u001b[0m\u001b[1;33m\u001b[0m\u001b[1;33m\u001b[0m\u001b[0m\n\u001b[0m\u001b[0;32m      4\u001b[0m \u001b[1;33m\u001b[0m\u001b[0m\n\u001b[0;32m      5\u001b[0m \u001b[1;31m# Replace in dataframe\u001b[0m\u001b[1;33m\u001b[0m\u001b[1;33m\u001b[0m\u001b[0m\n",
      "\u001b[1;31mNameError\u001b[0m: name 'application_df' is not defined"
     ]
    }
   ],
   "source": [
    "# Choose a cutoff value and create a list of classifications to be replaced\n",
    "# use the variable name `classifications_to_replace`\n",
    "classifications_to_replace = list(application_df['CLASSIFICATION'].value_counts()[application_df['CLASSIFICATION'].value_counts() < 1000].index)\n",
    "\n",
    "# Replace in dataframe\n",
    "for cls in classifications_to_replace:\n",
    "    application_df['CLASSIFICATION'] = application_df['CLASSIFICATION'].replace(cls,\"Other\")\n",
    "    \n",
    "# Check to make sure binning was successful\n",
    "application_df['CLASSIFICATION'].value_counts()"
   ]
  },
  {
   "cell_type": "code",
   "execution_count": 9,
   "metadata": {
    "colab": {
     "base_uri": "https://localhost:8080/"
    },
    "id": "IZ9DjNzV7CQh",
    "outputId": "88e37bce-c905-4c71-ccd6-192ff540e076"
   },
   "outputs": [
    {
     "data": {
      "text/plain": [
       "44"
      ]
     },
     "execution_count": 9,
     "metadata": {},
     "output_type": "execute_result"
    }
   ],
   "source": [
    "# Convert categorical data to numeric with `pd.get_dummies`\n",
    "df_encode = pd.get_dummies(application_df)\n",
    "len(df_encode.columns)"
   ]
  },
  {
   "cell_type": "code",
   "execution_count": 10,
   "metadata": {
    "id": "dc2c6CT17CQh"
   },
   "outputs": [],
   "source": [
    "# Split our preprocessed data into our features and target arrays\n",
    "X = df_encode.drop('IS_SUCCESSFUL', axis=1)\n",
    "y = df_encode['IS_SUCCESSFUL']\n",
    "\n",
    "# Split the preprocessed data into a training and testing dataset\n",
    "X_train, X_test, y_train, y_test = train_test_split(X, y)"
   ]
  },
  {
   "cell_type": "code",
   "execution_count": 11,
   "metadata": {
    "id": "Pj2Yo-sp7CQi"
   },
   "outputs": [],
   "source": [
    "# Create a StandardScaler instances\n",
    "scaler = StandardScaler()\n",
    "\n",
    "# Fit the StandardScaler\n",
    "X_scaler = scaler.fit(X_train)\n",
    "\n",
    "# Scale the data\n",
    "X_train_scaled = X_scaler.transform(X_train)\n",
    "X_test_scaled = X_scaler.transform(X_test)"
   ]
  },
  {
   "cell_type": "markdown",
   "metadata": {
    "id": "CzMINPTO7CQi"
   },
   "source": [
    "## Compile, Train and Evaluate the Model"
   ]
  },
  {
   "cell_type": "code",
   "execution_count": 12,
   "metadata": {
    "colab": {
     "base_uri": "https://localhost:8080/"
    },
    "id": "cWu0yEmO7CQi",
    "outputId": "a053aabf-8f0b-4f9a-a73d-3822ce024171"
   },
   "outputs": [
    {
     "name": "stdout",
     "output_type": "stream",
     "text": [
      "Model: \"sequential\"\n",
      "_________________________________________________________________\n",
      " Layer (type)                Output Shape              Param #   \n",
      "=================================================================\n",
      " dense (Dense)               (None, 80)                3520      \n",
      "                                                                 \n",
      " dense_1 (Dense)             (None, 30)                2430      \n",
      "                                                                 \n",
      " dense_2 (Dense)             (None, 1)                 31        \n",
      "                                                                 \n",
      "=================================================================\n",
      "Total params: 5,981\n",
      "Trainable params: 5,981\n",
      "Non-trainable params: 0\n",
      "_________________________________________________________________\n"
     ]
    }
   ],
   "source": [
    "# Define the model - deep neural net, i.e., the number of input features and hidden nodes for each layer.\n",
    "number_input_features = len(X_train_scaled[0])\n",
    "hidden_nodes_layer1 =  80\n",
    "hidden_nodes_layer2 = 30\n",
    "\n",
    "nn = tf.keras.models.Sequential()\n",
    "\n",
    "# First hidden layer\n",
    "nn.add(tf.keras.layers.Dense(units=hidden_nodes_layer1, activation='relu', input_dim=number_input_features))\n",
    "\n",
    "# Second hidden layer\n",
    "nn.add(tf.keras.layers.Dense(units=hidden_nodes_layer2, activation='relu'))\n",
    "\n",
    "# Output layer\n",
    "nn.add(tf.keras.layers.Dense(units=1, activation='sigmoid'))\n",
    "\n",
    "# Check the structure of the model\n",
    "nn.summary()"
   ]
  },
  {
   "cell_type": "code",
   "execution_count": 13,
   "metadata": {
    "id": "SHFFx0py7CQj"
   },
   "outputs": [],
   "source": [
    "# Compile the model\n",
    "nn.compile(loss='binary_crossentropy', optimizer='adam', metrics=['accuracy'])"
   ]
  },
  {
   "cell_type": "code",
   "execution_count": 14,
   "metadata": {
    "colab": {
     "base_uri": "https://localhost:8080/"
    },
    "id": "8DcrHfrp7CQj",
    "outputId": "775b6334-05c0-4506-df41-6927bae74702"
   },
   "outputs": [
    {
     "name": "stdout",
     "output_type": "stream",
     "text": [
      "Epoch 1/100\n",
      "804/804 [==============================] - 1s 650us/step - loss: 0.5727 - accuracy: 0.7197\n",
      "Epoch 2/100\n",
      "804/804 [==============================] - 1s 688us/step - loss: 0.5577 - accuracy: 0.7263\n",
      "Epoch 3/100\n",
      "804/804 [==============================] - 1s 656us/step - loss: 0.5554 - accuracy: 0.7268\n",
      "Epoch 4/100\n",
      "804/804 [==============================] - 1s 709us/step - loss: 0.5523 - accuracy: 0.7287\n",
      "Epoch 5/100\n",
      "804/804 [==============================] - 1s 664us/step - loss: 0.5507 - accuracy: 0.7292\n",
      "Epoch 6/100\n",
      "804/804 [==============================] - 1s 698us/step - loss: 0.5503 - accuracy: 0.7288\n",
      "Epoch 7/100\n",
      "804/804 [==============================] - 1s 672us/step - loss: 0.5493 - accuracy: 0.7290\n",
      "Epoch 8/100\n",
      "804/804 [==============================] - 1s 681us/step - loss: 0.5482 - accuracy: 0.7305\n",
      "Epoch 9/100\n",
      "804/804 [==============================] - 1s 681us/step - loss: 0.5473 - accuracy: 0.7316\n",
      "Epoch 10/100\n",
      "804/804 [==============================] - 1s 684us/step - loss: 0.5475 - accuracy: 0.7301\n",
      "Epoch 11/100\n",
      "804/804 [==============================] - 1s 689us/step - loss: 0.5472 - accuracy: 0.7312\n",
      "Epoch 12/100\n",
      "804/804 [==============================] - 1s 672us/step - loss: 0.5464 - accuracy: 0.7320\n",
      "Epoch 13/100\n",
      "804/804 [==============================] - 1s 698us/step - loss: 0.5459 - accuracy: 0.7317\n",
      "Epoch 14/100\n",
      "804/804 [==============================] - 1s 667us/step - loss: 0.5460 - accuracy: 0.7314\n",
      "Epoch 15/100\n",
      "804/804 [==============================] - 1s 688us/step - loss: 0.5454 - accuracy: 0.7315\n",
      "Epoch 16/100\n",
      "804/804 [==============================] - 1s 664us/step - loss: 0.5446 - accuracy: 0.7322\n",
      "Epoch 17/100\n",
      "804/804 [==============================] - 1s 699us/step - loss: 0.5447 - accuracy: 0.7335\n",
      "Epoch 18/100\n",
      "804/804 [==============================] - 1s 683us/step - loss: 0.5445 - accuracy: 0.7324\n",
      "Epoch 19/100\n",
      "804/804 [==============================] - 1s 682us/step - loss: 0.5442 - accuracy: 0.7335\n",
      "Epoch 20/100\n",
      "804/804 [==============================] - 1s 693us/step - loss: 0.5438 - accuracy: 0.7343\n",
      "Epoch 21/100\n",
      "804/804 [==============================] - 1s 677us/step - loss: 0.5434 - accuracy: 0.7323\n",
      "Epoch 22/100\n",
      "804/804 [==============================] - 1s 714us/step - loss: 0.5429 - accuracy: 0.7345\n",
      "Epoch 23/100\n",
      "804/804 [==============================] - 1s 677us/step - loss: 0.5431 - accuracy: 0.7341\n",
      "Epoch 24/100\n",
      "804/804 [==============================] - 1s 704us/step - loss: 0.5428 - accuracy: 0.7340\n",
      "Epoch 25/100\n",
      "804/804 [==============================] - 1s 664us/step - loss: 0.5428 - accuracy: 0.7348\n",
      "Epoch 26/100\n",
      "804/804 [==============================] - 1s 733us/step - loss: 0.5426 - accuracy: 0.7337\n",
      "Epoch 27/100\n",
      "804/804 [==============================] - 1s 687us/step - loss: 0.5422 - accuracy: 0.7354\n",
      "Epoch 28/100\n",
      "804/804 [==============================] - 1s 681us/step - loss: 0.5417 - accuracy: 0.7355\n",
      "Epoch 29/100\n",
      "804/804 [==============================] - 1s 682us/step - loss: 0.5422 - accuracy: 0.7345\n",
      "Epoch 30/100\n",
      "804/804 [==============================] - 1s 672us/step - loss: 0.5415 - accuracy: 0.7352\n",
      "Epoch 31/100\n",
      "804/804 [==============================] - 1s 696us/step - loss: 0.5419 - accuracy: 0.7343\n",
      "Epoch 32/100\n",
      "804/804 [==============================] - 1s 672us/step - loss: 0.5414 - accuracy: 0.7350\n",
      "Epoch 33/100\n",
      "804/804 [==============================] - 1s 707us/step - loss: 0.5418 - accuracy: 0.7337\n",
      "Epoch 34/100\n",
      "804/804 [==============================] - 1s 671us/step - loss: 0.5414 - accuracy: 0.7341\n",
      "Epoch 35/100\n",
      "804/804 [==============================] - 1s 698us/step - loss: 0.5411 - accuracy: 0.7360\n",
      "Epoch 36/100\n",
      "804/804 [==============================] - 1s 681us/step - loss: 0.5405 - accuracy: 0.7348\n",
      "Epoch 37/100\n",
      "804/804 [==============================] - 1s 687us/step - loss: 0.5408 - accuracy: 0.7353\n",
      "Epoch 38/100\n",
      "804/804 [==============================] - 1s 677us/step - loss: 0.5403 - accuracy: 0.7354\n",
      "Epoch 39/100\n",
      "804/804 [==============================] - 1s 682us/step - loss: 0.5407 - accuracy: 0.7347\n",
      "Epoch 40/100\n",
      "804/804 [==============================] - 1s 691us/step - loss: 0.5402 - accuracy: 0.7346\n",
      "Epoch 41/100\n",
      "804/804 [==============================] - 1s 671us/step - loss: 0.5404 - accuracy: 0.7357\n",
      "Epoch 42/100\n",
      "804/804 [==============================] - 1s 693us/step - loss: 0.5400 - accuracy: 0.7361\n",
      "Epoch 43/100\n",
      "804/804 [==============================] - 1s 692us/step - loss: 0.5407 - accuracy: 0.7347\n",
      "Epoch 44/100\n",
      "804/804 [==============================] - 1s 697us/step - loss: 0.5399 - accuracy: 0.7354\n",
      "Epoch 45/100\n",
      "804/804 [==============================] - 1s 677us/step - loss: 0.5398 - accuracy: 0.7349\n",
      "Epoch 46/100\n",
      "804/804 [==============================] - 1s 687us/step - loss: 0.5396 - accuracy: 0.7358\n",
      "Epoch 47/100\n",
      "804/804 [==============================] - 1s 664us/step - loss: 0.5399 - accuracy: 0.7355\n",
      "Epoch 48/100\n",
      "804/804 [==============================] - 1s 696us/step - loss: 0.5401 - accuracy: 0.7355\n",
      "Epoch 49/100\n",
      "804/804 [==============================] - 1s 678us/step - loss: 0.5398 - accuracy: 0.7358\n",
      "Epoch 50/100\n",
      "804/804 [==============================] - 1s 678us/step - loss: 0.5395 - accuracy: 0.7362\n",
      "Epoch 51/100\n",
      "804/804 [==============================] - 1s 678us/step - loss: 0.5392 - accuracy: 0.7362\n",
      "Epoch 52/100\n",
      "804/804 [==============================] - 1s 671us/step - loss: 0.5393 - accuracy: 0.7361\n",
      "Epoch 53/100\n",
      "804/804 [==============================] - 1s 699us/step - loss: 0.5394 - accuracy: 0.7361\n",
      "Epoch 54/100\n",
      "804/804 [==============================] - 1s 669us/step - loss: 0.5394 - accuracy: 0.7359\n",
      "Epoch 55/100\n",
      "804/804 [==============================] - 1s 698us/step - loss: 0.5390 - accuracy: 0.7348\n",
      "Epoch 56/100\n",
      "804/804 [==============================] - 1s 668us/step - loss: 0.5387 - accuracy: 0.7355\n",
      "Epoch 57/100\n",
      "804/804 [==============================] - 1s 704us/step - loss: 0.5389 - accuracy: 0.7366\n",
      "Epoch 58/100\n",
      "804/804 [==============================] - 1s 677us/step - loss: 0.5387 - accuracy: 0.7365\n",
      "Epoch 59/100\n",
      "804/804 [==============================] - 1s 696us/step - loss: 0.5387 - accuracy: 0.7357\n",
      "Epoch 60/100\n",
      "804/804 [==============================] - 1s 683us/step - loss: 0.5387 - accuracy: 0.7361\n",
      "Epoch 61/100\n",
      "804/804 [==============================] - 1s 676us/step - loss: 0.5387 - accuracy: 0.7374\n",
      "Epoch 62/100\n",
      "804/804 [==============================] - 1s 682us/step - loss: 0.5384 - accuracy: 0.7350\n",
      "Epoch 63/100\n",
      "804/804 [==============================] - 1s 666us/step - loss: 0.5384 - accuracy: 0.7369\n",
      "Epoch 64/100\n",
      "804/804 [==============================] - 1s 686us/step - loss: 0.5378 - accuracy: 0.7366\n",
      "Epoch 65/100\n",
      "804/804 [==============================] - 1s 679us/step - loss: 0.5383 - accuracy: 0.7368\n",
      "Epoch 66/100\n",
      "804/804 [==============================] - 1s 674us/step - loss: 0.5384 - accuracy: 0.7364\n",
      "Epoch 67/100\n",
      "804/804 [==============================] - 1s 672us/step - loss: 0.5379 - accuracy: 0.7363\n",
      "Epoch 68/100\n",
      "804/804 [==============================] - 1s 672us/step - loss: 0.5379 - accuracy: 0.7360\n",
      "Epoch 69/100\n",
      "804/804 [==============================] - 1s 671us/step - loss: 0.5379 - accuracy: 0.7353\n",
      "Epoch 70/100\n",
      "804/804 [==============================] - 1s 693us/step - loss: 0.5376 - accuracy: 0.7366\n",
      "Epoch 71/100\n",
      "804/804 [==============================] - 1s 668us/step - loss: 0.5379 - accuracy: 0.7364\n",
      "Epoch 72/100\n",
      "804/804 [==============================] - 1s 671us/step - loss: 0.5376 - accuracy: 0.7371\n",
      "Epoch 73/100\n",
      "804/804 [==============================] - 1s 676us/step - loss: 0.5378 - accuracy: 0.7367\n",
      "Epoch 74/100\n",
      "804/804 [==============================] - 1s 687us/step - loss: 0.5374 - accuracy: 0.7372\n",
      "Epoch 75/100\n",
      "804/804 [==============================] - 1s 699us/step - loss: 0.5378 - accuracy: 0.7366\n",
      "Epoch 76/100\n",
      "804/804 [==============================] - 1s 674us/step - loss: 0.5372 - accuracy: 0.7364\n",
      "Epoch 77/100\n",
      "804/804 [==============================] - 1s 699us/step - loss: 0.5376 - accuracy: 0.7366\n",
      "Epoch 78/100\n",
      "804/804 [==============================] - 1s 660us/step - loss: 0.5377 - accuracy: 0.7366\n",
      "Epoch 79/100\n",
      "804/804 [==============================] - 1s 699us/step - loss: 0.5373 - accuracy: 0.7362\n",
      "Epoch 80/100\n",
      "804/804 [==============================] - 1s 666us/step - loss: 0.5373 - accuracy: 0.7372\n",
      "Epoch 81/100\n",
      "804/804 [==============================] - 1s 687us/step - loss: 0.5372 - accuracy: 0.7368\n",
      "Epoch 82/100\n",
      "804/804 [==============================] - 1s 669us/step - loss: 0.5375 - accuracy: 0.7362\n",
      "Epoch 83/100\n",
      "804/804 [==============================] - 1s 704us/step - loss: 0.5370 - accuracy: 0.7366\n",
      "Epoch 84/100\n",
      "804/804 [==============================] - 1s 702us/step - loss: 0.5368 - accuracy: 0.7368\n",
      "Epoch 85/100\n",
      "804/804 [==============================] - 1s 686us/step - loss: 0.5371 - accuracy: 0.7374\n",
      "Epoch 86/100\n",
      "804/804 [==============================] - 1s 710us/step - loss: 0.5367 - accuracy: 0.7364\n",
      "Epoch 87/100\n",
      "804/804 [==============================] - 1s 671us/step - loss: 0.5369 - accuracy: 0.7373\n",
      "Epoch 88/100\n",
      "804/804 [==============================] - 1s 718us/step - loss: 0.5367 - accuracy: 0.7372\n",
      "Epoch 89/100\n",
      "804/804 [==============================] - 1s 673us/step - loss: 0.5370 - accuracy: 0.7371\n",
      "Epoch 90/100\n",
      "804/804 [==============================] - 1s 703us/step - loss: 0.5366 - accuracy: 0.7368\n",
      "Epoch 91/100\n",
      "804/804 [==============================] - 1s 683us/step - loss: 0.5366 - accuracy: 0.7373\n",
      "Epoch 92/100\n",
      "804/804 [==============================] - 1s 691us/step - loss: 0.5367 - accuracy: 0.7372\n",
      "Epoch 93/100\n",
      "804/804 [==============================] - 1s 692us/step - loss: 0.5366 - accuracy: 0.7362\n",
      "Epoch 94/100\n",
      "804/804 [==============================] - 1s 672us/step - loss: 0.5365 - accuracy: 0.7371\n",
      "Epoch 95/100\n",
      "804/804 [==============================] - 1s 705us/step - loss: 0.5367 - accuracy: 0.7371\n",
      "Epoch 96/100\n",
      "804/804 [==============================] - 1s 674us/step - loss: 0.5361 - accuracy: 0.7382\n",
      "Epoch 97/100\n",
      "804/804 [==============================] - 1s 692us/step - loss: 0.5363 - accuracy: 0.7377\n",
      "Epoch 98/100\n",
      "804/804 [==============================] - 1s 691us/step - loss: 0.5362 - accuracy: 0.7373\n",
      "Epoch 99/100\n",
      "804/804 [==============================] - 1s 713us/step - loss: 0.5363 - accuracy: 0.7374\n",
      "Epoch 100/100\n",
      "804/804 [==============================] - 1s 691us/step - loss: 0.5362 - accuracy: 0.7368\n"
     ]
    }
   ],
   "source": [
    "# Train the model\n",
    "fit_model = nn.fit(X_train_scaled, y_train, epochs=100)"
   ]
  },
  {
   "cell_type": "code",
   "execution_count": 15,
   "metadata": {
    "colab": {
     "base_uri": "https://localhost:8080/"
    },
    "id": "UHD8cf8j7CQj",
    "outputId": "586e68cc-de0f-426e-ddb5-29c73ad896d3"
   },
   "outputs": [
    {
     "name": "stdout",
     "output_type": "stream",
     "text": [
      "268/268 - 0s - loss: 0.5592 - accuracy: 0.7353 - 215ms/epoch - 804us/step\n",
      "Loss: 0.5592002868652344, Accuracy: 0.735276997089386\n"
     ]
    }
   ],
   "source": [
    "# Evaluate the model using the test data\n",
    "model_loss, model_accuracy = nn.evaluate(X_test_scaled,y_test,verbose=2)\n",
    "print(f\"Loss: {model_loss}, Accuracy: {model_accuracy}\")"
   ]
  },
  {
   "cell_type": "code",
   "execution_count": 16,
   "metadata": {
    "id": "JBxXF4CX7CQk"
   },
   "outputs": [],
   "source": [
    "# Export our model to HDF5 file\n",
    "nn.save('AlphabetSoupCharity.h5')"
   ]
  }
 ],
 "metadata": {
  "colab": {
   "collapsed_sections": [],
   "name": "Starter_Code-checkpoint.ipynb",
   "provenance": []
  },
  "kernelspec": {
   "display_name": "Python 3 (ipykernel)",
   "language": "python",
   "name": "python3"
  },
  "language_info": {
   "codemirror_mode": {
    "name": "ipython",
    "version": 3
   },
   "file_extension": ".py",
   "mimetype": "text/x-python",
   "name": "python",
   "nbconvert_exporter": "python",
   "pygments_lexer": "ipython3",
   "version": "3.9.7"
  }
 },
 "nbformat": 4,
 "nbformat_minor": 1
}
