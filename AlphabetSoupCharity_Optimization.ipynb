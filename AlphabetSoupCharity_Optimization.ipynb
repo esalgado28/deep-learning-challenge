{
 "cells": [
  {
   "cell_type": "markdown",
   "metadata": {
    "id": "XrDNpYTs7CQY"
   },
   "source": [
    "## Preprocessing (...again)"
   ]
  },
  {
   "cell_type": "code",
   "execution_count": 53,
   "metadata": {
    "colab": {
     "base_uri": "https://localhost:8080/",
     "height": 496
    },
    "id": "5lJi0r657CQc",
    "outputId": "3e7aaa59-2a77-4146-8a69-86f1514c98b0"
   },
   "outputs": [
    {
     "data": {
      "text/html": [
       "<div>\n",
       "<style scoped>\n",
       "    .dataframe tbody tr th:only-of-type {\n",
       "        vertical-align: middle;\n",
       "    }\n",
       "\n",
       "    .dataframe tbody tr th {\n",
       "        vertical-align: top;\n",
       "    }\n",
       "\n",
       "    .dataframe thead th {\n",
       "        text-align: right;\n",
       "    }\n",
       "</style>\n",
       "<table border=\"1\" class=\"dataframe\">\n",
       "  <thead>\n",
       "    <tr style=\"text-align: right;\">\n",
       "      <th></th>\n",
       "      <th>EIN</th>\n",
       "      <th>NAME</th>\n",
       "      <th>APPLICATION_TYPE</th>\n",
       "      <th>AFFILIATION</th>\n",
       "      <th>CLASSIFICATION</th>\n",
       "      <th>USE_CASE</th>\n",
       "      <th>ORGANIZATION</th>\n",
       "      <th>STATUS</th>\n",
       "      <th>INCOME_AMT</th>\n",
       "      <th>SPECIAL_CONSIDERATIONS</th>\n",
       "      <th>ASK_AMT</th>\n",
       "      <th>IS_SUCCESSFUL</th>\n",
       "    </tr>\n",
       "  </thead>\n",
       "  <tbody>\n",
       "    <tr>\n",
       "      <th>0</th>\n",
       "      <td>10520599</td>\n",
       "      <td>BLUE KNIGHTS MOTORCYCLE CLUB</td>\n",
       "      <td>T10</td>\n",
       "      <td>Independent</td>\n",
       "      <td>C1000</td>\n",
       "      <td>ProductDev</td>\n",
       "      <td>Association</td>\n",
       "      <td>1</td>\n",
       "      <td>0</td>\n",
       "      <td>N</td>\n",
       "      <td>5000</td>\n",
       "      <td>1</td>\n",
       "    </tr>\n",
       "    <tr>\n",
       "      <th>1</th>\n",
       "      <td>10531628</td>\n",
       "      <td>AMERICAN CHESAPEAKE CLUB CHARITABLE TR</td>\n",
       "      <td>T3</td>\n",
       "      <td>Independent</td>\n",
       "      <td>C2000</td>\n",
       "      <td>Preservation</td>\n",
       "      <td>Co-operative</td>\n",
       "      <td>1</td>\n",
       "      <td>1-9999</td>\n",
       "      <td>N</td>\n",
       "      <td>108590</td>\n",
       "      <td>1</td>\n",
       "    </tr>\n",
       "    <tr>\n",
       "      <th>2</th>\n",
       "      <td>10547893</td>\n",
       "      <td>ST CLOUD PROFESSIONAL FIREFIGHTERS</td>\n",
       "      <td>T5</td>\n",
       "      <td>CompanySponsored</td>\n",
       "      <td>C3000</td>\n",
       "      <td>ProductDev</td>\n",
       "      <td>Association</td>\n",
       "      <td>1</td>\n",
       "      <td>0</td>\n",
       "      <td>N</td>\n",
       "      <td>5000</td>\n",
       "      <td>0</td>\n",
       "    </tr>\n",
       "    <tr>\n",
       "      <th>3</th>\n",
       "      <td>10553066</td>\n",
       "      <td>SOUTHSIDE ATHLETIC ASSOCIATION</td>\n",
       "      <td>T3</td>\n",
       "      <td>CompanySponsored</td>\n",
       "      <td>C2000</td>\n",
       "      <td>Preservation</td>\n",
       "      <td>Trust</td>\n",
       "      <td>1</td>\n",
       "      <td>10000-24999</td>\n",
       "      <td>N</td>\n",
       "      <td>6692</td>\n",
       "      <td>1</td>\n",
       "    </tr>\n",
       "    <tr>\n",
       "      <th>4</th>\n",
       "      <td>10556103</td>\n",
       "      <td>GENETIC RESEARCH INSTITUTE OF THE DESERT</td>\n",
       "      <td>T3</td>\n",
       "      <td>Independent</td>\n",
       "      <td>C1000</td>\n",
       "      <td>Heathcare</td>\n",
       "      <td>Trust</td>\n",
       "      <td>1</td>\n",
       "      <td>100000-499999</td>\n",
       "      <td>N</td>\n",
       "      <td>142590</td>\n",
       "      <td>1</td>\n",
       "    </tr>\n",
       "  </tbody>\n",
       "</table>\n",
       "</div>"
      ],
      "text/plain": [
       "        EIN                                      NAME APPLICATION_TYPE  \\\n",
       "0  10520599              BLUE KNIGHTS MOTORCYCLE CLUB              T10   \n",
       "1  10531628    AMERICAN CHESAPEAKE CLUB CHARITABLE TR               T3   \n",
       "2  10547893        ST CLOUD PROFESSIONAL FIREFIGHTERS               T5   \n",
       "3  10553066            SOUTHSIDE ATHLETIC ASSOCIATION               T3   \n",
       "4  10556103  GENETIC RESEARCH INSTITUTE OF THE DESERT               T3   \n",
       "\n",
       "        AFFILIATION CLASSIFICATION      USE_CASE  ORGANIZATION  STATUS  \\\n",
       "0       Independent          C1000    ProductDev   Association       1   \n",
       "1       Independent          C2000  Preservation  Co-operative       1   \n",
       "2  CompanySponsored          C3000    ProductDev   Association       1   \n",
       "3  CompanySponsored          C2000  Preservation         Trust       1   \n",
       "4       Independent          C1000     Heathcare         Trust       1   \n",
       "\n",
       "      INCOME_AMT SPECIAL_CONSIDERATIONS  ASK_AMT  IS_SUCCESSFUL  \n",
       "0              0                      N     5000              1  \n",
       "1         1-9999                      N   108590              1  \n",
       "2              0                      N     5000              0  \n",
       "3    10000-24999                      N     6692              1  \n",
       "4  100000-499999                      N   142590              1  "
      ]
     },
     "execution_count": 53,
     "metadata": {},
     "output_type": "execute_result"
    }
   ],
   "source": [
    "# Import our dependencies\n",
    "from sklearn.model_selection import train_test_split\n",
    "from sklearn.preprocessing import StandardScaler\n",
    "import pandas as pd\n",
    "import tensorflow as tf\n",
    "\n",
    "#  Import and read the charity_data.csv.\n",
    "import pandas as pd \n",
    "application_df = pd.read_csv(\"Resources/charity_data.csv\")\n",
    "application_df.head()"
   ]
  },
  {
   "cell_type": "code",
   "execution_count": 54,
   "metadata": {},
   "outputs": [
    {
     "data": {
      "text/plain": [
       "EIN                       34299\n",
       "NAME                      19568\n",
       "APPLICATION_TYPE             17\n",
       "AFFILIATION                   6\n",
       "CLASSIFICATION               71\n",
       "USE_CASE                      5\n",
       "ORGANIZATION                  4\n",
       "STATUS                        2\n",
       "INCOME_AMT                    9\n",
       "SPECIAL_CONSIDERATIONS        2\n",
       "ASK_AMT                    8747\n",
       "IS_SUCCESSFUL                 2\n",
       "dtype: int64"
      ]
     },
     "execution_count": 54,
     "metadata": {},
     "output_type": "execute_result"
    }
   ],
   "source": [
    "# Determine the number of unique values in each column.\n",
    "application_df.nunique()"
   ]
  },
  {
   "cell_type": "code",
   "execution_count": 55,
   "metadata": {},
   "outputs": [
    {
     "data": {
      "text/plain": [
       "PARENT BOOSTER USA INC                                                1260\n",
       "TOPS CLUB INC                                                          765\n",
       "UNITED STATES BOWLING CONGRESS INC                                     700\n",
       "WASHINGTON STATE UNIVERSITY                                            492\n",
       "AMATEUR ATHLETIC UNION OF THE UNITED STATES INC                        408\n",
       "PTA TEXAS CONGRESS                                                     368\n",
       "SOROPTIMIST INTERNATIONAL OF THE AMERICAS INC                          331\n",
       "ALPHA PHI SIGMA                                                        313\n",
       "TOASTMASTERS INTERNATIONAL                                             293\n",
       "MOST WORSHIPFUL STRINGER FREE AND ACCEPTED MASONS                      287\n",
       "LITTLE LEAGUE BASEBALL INC                                             277\n",
       "INTERNATIONAL ASSOCIATION OF LIONS CLUBS                               266\n",
       "MOMS CLUB                                                              210\n",
       "INTERNATIONAL ASSOCIATION OF SHEET METAL AIR RAIL & TRANSPORTATION     206\n",
       "AMERICAN ASSOCIATION OF UNIVERSITY WOMEN                               197\n",
       "FARMERS EDUCATIONAL AND COOPERATIVE UNION OF AMERICA                   166\n",
       "KNIGHTS OF COLUMBUS                                                    158\n",
       "HABITAT FOR HUMANITY INTERNATIONAL INC                                 154\n",
       "TENNESSEE ORDER OF THE EASTERN STAR                                    151\n",
       "VETERANS OF FOREIGN WARS OF THE UNITED STATES AUXILIARY                144\n",
       "PTA UTAH CONGRESS                                                      140\n",
       "THE UNITED STATES PONY CLUBS INC                                       136\n",
       "CIVITAN INTERNATIONAL                                                  131\n",
       "SIGMA BETA DELTA INC                                                   127\n",
       "HONOR SOCIETY OF PHI KAPPA PHI                                         107\n",
       "MONTANA 4-H FOUNDATION INC                                             107\n",
       "WASHINGTON STATE GRANGE                                                106\n",
       "UNIVERSITY OF WYOMING                                                  105\n",
       "DEMOLAY INTERNATIONAL                                                  104\n",
       "SERTOMA INC                                                            103\n",
       "AIR FORCE ASSOCIATION                                                   99\n",
       "WORKERS UNITED                                                          97\n",
       "GAMMA THETA UPSILON                                                     92\n",
       "INTERNATIONAL ASSOCIATION OF FIRE FIGHTERS                              91\n",
       "SOCIETY OF SAINT VINCENT DE PAUL COUNCIL OF LOS ANGELES                 87\n",
       "ROTARY INTERNATIONAL                                                    84\n",
       "CALIFORNIA GARDEN CLUBS INC                                             76\n",
       "SWEET ADELINES INTERNATIONAL                                            73\n",
       "DISABLED AMERICAN VETERANS                                              73\n",
       "KLEIN SUPPORT GROUPS INC                                                69\n",
       "CLEARCREEK I S D SUPPORT GROUPS                                         60\n",
       "VFW AUXILIARY DEPARTMENT OF OKLAHOMA INC                                58\n",
       "DEPARTMENT OF KANSAS LADIES AUXILIARY TO THE VFW OF THE US INC          57\n",
       "CISD EDUCATIONAL SUPPORT GROUPS INC                                     57\n",
       "SONS OF CONFEDERATE VETERANS INC                                        56\n",
       "SLOW FOOD USA INC                                                       55\n",
       "NATIONAL YOUNG MENS SERVICE LEAGUE                                      54\n",
       "AMATEUR ATHLETIC UNION OF THE UNITED STATES                             52\n",
       "LAMBDA THETA ALPHA                                                      52\n",
       "UNITED FEDERATION OF DOLL CLUBS INC                                     50\n",
       "Name: NAME, dtype: int64"
      ]
     },
     "execution_count": 55,
     "metadata": {},
     "output_type": "execute_result"
    }
   ],
   "source": [
    "# Is name really useless??\n",
    "application_df['NAME'].value_counts().head(50)"
   ]
  },
  {
   "cell_type": "code",
   "execution_count": 56,
   "metadata": {},
   "outputs": [
    {
     "data": {
      "text/plain": [
       "1    34294\n",
       "0        5\n",
       "Name: STATUS, dtype: int64"
      ]
     },
     "execution_count": 56,
     "metadata": {},
     "output_type": "execute_result"
    }
   ],
   "source": [
    "# Checking other columns\n",
    "application_df['STATUS'].value_counts()"
   ]
  },
  {
   "cell_type": "code",
   "execution_count": 57,
   "metadata": {},
   "outputs": [
    {
     "data": {
      "text/plain": [
       "N    34272\n",
       "Y       27\n",
       "Name: SPECIAL_CONSIDERATIONS, dtype: int64"
      ]
     },
     "execution_count": 57,
     "metadata": {},
     "output_type": "execute_result"
    }
   ],
   "source": [
    "application_df['SPECIAL_CONSIDERATIONS'].value_counts()"
   ]
  },
  {
   "cell_type": "code",
   "execution_count": 58,
   "metadata": {},
   "outputs": [
    {
     "data": {
      "text/plain": [
       "Independent         18480\n",
       "CompanySponsored    15705\n",
       "Family/Parent          64\n",
       "National               33\n",
       "Regional               13\n",
       "Other                   4\n",
       "Name: AFFILIATION, dtype: int64"
      ]
     },
     "execution_count": 58,
     "metadata": {},
     "output_type": "execute_result"
    }
   ],
   "source": [
    "application_df['AFFILIATION'].value_counts()"
   ]
  },
  {
   "cell_type": "code",
   "execution_count": 59,
   "metadata": {},
   "outputs": [
    {
     "data": {
      "text/plain": [
       "Preservation     28095\n",
       "ProductDev        5671\n",
       "CommunityServ      384\n",
       "Heathcare          146\n",
       "Other                3\n",
       "Name: USE_CASE, dtype: int64"
      ]
     },
     "execution_count": 59,
     "metadata": {},
     "output_type": "execute_result"
    }
   ],
   "source": [
    "application_df['USE_CASE'].value_counts()"
   ]
  },
  {
   "cell_type": "code",
   "execution_count": 60,
   "metadata": {},
   "outputs": [
    {
     "data": {
      "text/plain": [
       "Trust           23515\n",
       "Association     10255\n",
       "Co-operative      486\n",
       "Corporation        43\n",
       "Name: ORGANIZATION, dtype: int64"
      ]
     },
     "execution_count": 60,
     "metadata": {},
     "output_type": "execute_result"
    }
   ],
   "source": [
    "application_df['ORGANIZATION'].value_counts()"
   ]
  },
  {
   "cell_type": "code",
   "execution_count": 61,
   "metadata": {},
   "outputs": [],
   "source": [
    "# Based on the above counts, dropping STATUS and SPECIAL_CONSIDERATIONS columns seems to make sense\n",
    "# as well as EIN\n",
    "application_df.drop(columns=['EIN', 'STATUS', 'SPECIAL_CONSIDERATIONS'], inplace=True)"
   ]
  },
  {
   "cell_type": "code",
   "execution_count": 62,
   "metadata": {},
   "outputs": [
    {
     "data": {
      "text/plain": [
       "Other                                      21022\n",
       "PARENT BOOSTER USA INC                      1260\n",
       "TOPS CLUB INC                                765\n",
       "UNITED STATES BOWLING CONGRESS INC           700\n",
       "WASHINGTON STATE UNIVERSITY                  492\n",
       "                                           ...  \n",
       "CASCADE 4-H FOUNDATION                        10\n",
       "FREE & ACCEPTED MASONS OF WASHINGTON          10\n",
       "NEW MEXICO GARDEN CLUBS INC                   10\n",
       "NATIONAL ASSOCIATION OF HISPANIC NURSES       10\n",
       "UNION OF CALIFORNIA STATE WORKERS             10\n",
       "Name: NAME, Length: 223, dtype: int64"
      ]
     },
     "execution_count": 62,
     "metadata": {},
     "output_type": "execute_result"
    }
   ],
   "source": [
    "# Given there are many entries from several organizations and one might expect future applications from the same groups,\n",
    "# it makes some sense to keep the name column and bin the most common organizations\n",
    "names_to_replace = list(application_df['NAME'].value_counts()[application_df['NAME'].value_counts() < 10].index)\n",
    "\n",
    "# Replace in dataframe\n",
    "for name in names_to_replace:\n",
    "    application_df['NAME'] = application_df['NAME'].replace(name,\"Other\")\n",
    "    \n",
    "# Check to make sure binning was successful\n",
    "application_df['NAME'].value_counts()"
   ]
  },
  {
   "cell_type": "code",
   "execution_count": 63,
   "metadata": {},
   "outputs": [
    {
     "data": {
      "text/plain": [
       "Independent         18480\n",
       "CompanySponsored    15705\n",
       "Other                 114\n",
       "Name: AFFILIATION, dtype: int64"
      ]
     },
     "execution_count": 63,
     "metadata": {},
     "output_type": "execute_result"
    }
   ],
   "source": [
    "# Affiliation seems to have two main categories and the rest are rare\n",
    "# Let's bin them as well\n",
    "affiliation_to_replace = ['Family/Parent', 'National', 'Regional']\n",
    "\n",
    "# Replace in dataframe\n",
    "for aff in affiliation_to_replace:\n",
    "    application_df['AFFILIATION'] = application_df['AFFILIATION'].replace(aff,\"Other\")\n",
    "\n",
    "# Check to make sure binning was successful\n",
    "application_df['AFFILIATION'].value_counts()"
   ]
  },
  {
   "cell_type": "code",
   "execution_count": 64,
   "metadata": {},
   "outputs": [
    {
     "data": {
      "text/plain": [
       "Trust          23515\n",
       "Association    10255\n",
       "Other            529\n",
       "Name: ORGANIZATION, dtype: int64"
      ]
     },
     "execution_count": 64,
     "metadata": {},
     "output_type": "execute_result"
    }
   ],
   "source": [
    "# Replace rare organizations\n",
    "organization_to_replace = ['Co-operative', 'Corporation']\n",
    "\n",
    "# Replace in dataframe\n",
    "for org in organization_to_replace:\n",
    "    application_df['ORGANIZATION'] = application_df['ORGANIZATION'].replace(org,\"Other\")\n",
    "\n",
    "# Check to make sure binning was successful\n",
    "application_df['ORGANIZATION'].value_counts()"
   ]
  },
  {
   "cell_type": "code",
   "execution_count": 65,
   "metadata": {
    "colab": {
     "base_uri": "https://localhost:8080/"
    },
    "id": "7RdM7qU87CQe",
    "outputId": "8532f638-b2cd-41b2-fced-23a2edaed03e"
   },
   "outputs": [
    {
     "data": {
      "text/plain": [
       "T3     27037\n",
       "T4      1542\n",
       "T6      1216\n",
       "T5      1173\n",
       "T19     1065\n",
       "T8       737\n",
       "T7       725\n",
       "T10      528\n",
       "T9       156\n",
       "T13       66\n",
       "T12       27\n",
       "T2        16\n",
       "T25        3\n",
       "T14        3\n",
       "T29        2\n",
       "T15        2\n",
       "T17        1\n",
       "Name: APPLICATION_TYPE, dtype: int64"
      ]
     },
     "execution_count": 65,
     "metadata": {},
     "output_type": "execute_result"
    }
   ],
   "source": [
    "# Look at APPLICATION_TYPE value counts for binning\n",
    "application_df['APPLICATION_TYPE'].value_counts()"
   ]
  },
  {
   "cell_type": "code",
   "execution_count": 66,
   "metadata": {
    "colab": {
     "base_uri": "https://localhost:8080/"
    },
    "id": "SkquLHCe7CQe",
    "outputId": "aca961fd-6b78-414a-f594-09c3df23cfb5"
   },
   "outputs": [
    {
     "data": {
      "text/plain": [
       "T3       27037\n",
       "T4        1542\n",
       "T6        1216\n",
       "T5        1173\n",
       "T19       1065\n",
       "T8         737\n",
       "T7         725\n",
       "T10        528\n",
       "Other      276\n",
       "Name: APPLICATION_TYPE, dtype: int64"
      ]
     },
     "execution_count": 66,
     "metadata": {},
     "output_type": "execute_result"
    }
   ],
   "source": [
    "# Choose a cutoff value and create a list of application types to be replaced (same as before)\n",
    "# use the variable name `application_types_to_replace`\n",
    "application_types_to_replace = list(application_df['APPLICATION_TYPE'].value_counts()[application_df['APPLICATION_TYPE'].value_counts() < 500].index)\n",
    "\n",
    "# Replace in dataframe\n",
    "for app in application_types_to_replace:\n",
    "    application_df['APPLICATION_TYPE'] = application_df['APPLICATION_TYPE'].replace(app,\"Other\")\n",
    "\n",
    "# Check to make sure binning was successful\n",
    "application_df['APPLICATION_TYPE'].value_counts()"
   ]
  },
  {
   "cell_type": "code",
   "execution_count": 67,
   "metadata": {
    "colab": {
     "base_uri": "https://localhost:8080/"
    },
    "id": "yG7yOkMZ7CQf",
    "outputId": "6680f84d-69c6-494a-d00f-366b18115271"
   },
   "outputs": [
    {
     "data": {
      "text/plain": [
       "C1000    17326\n",
       "C2000     6074\n",
       "C1200     4837\n",
       "C3000     1918\n",
       "C2100     1883\n",
       "         ...  \n",
       "C4120        1\n",
       "C8210        1\n",
       "C2561        1\n",
       "C4500        1\n",
       "C2150        1\n",
       "Name: CLASSIFICATION, Length: 71, dtype: int64"
      ]
     },
     "execution_count": 67,
     "metadata": {},
     "output_type": "execute_result"
    }
   ],
   "source": [
    "# Look at CLASSIFICATION value counts for binning\n",
    "application_df['CLASSIFICATION'].value_counts()"
   ]
  },
  {
   "cell_type": "code",
   "execution_count": 68,
   "metadata": {
    "colab": {
     "base_uri": "https://localhost:8080/"
    },
    "id": "8ksr2W287CQh",
    "outputId": "17f1c2da-76b5-4560-b83c-231bd3e5d839"
   },
   "outputs": [
    {
     "data": {
      "text/plain": [
       "C1000    17326\n",
       "C2000     6074\n",
       "C1200     4837\n",
       "Other     2261\n",
       "C3000     1918\n",
       "C2100     1883\n",
       "Name: CLASSIFICATION, dtype: int64"
      ]
     },
     "execution_count": 68,
     "metadata": {},
     "output_type": "execute_result"
    }
   ],
   "source": [
    "# Choose a cutoff value and create a list of classifications to be replaced\n",
    "# use the variable name `classifications_to_replace`\n",
    "classifications_to_replace = list(application_df['CLASSIFICATION'].value_counts()[application_df['CLASSIFICATION'].value_counts() < 1000].index)\n",
    "\n",
    "# Replace in dataframe\n",
    "for cls in classifications_to_replace:\n",
    "    application_df['CLASSIFICATION'] = application_df['CLASSIFICATION'].replace(cls,\"Other\")\n",
    "    \n",
    "# Check to make sure binning was successful\n",
    "application_df['CLASSIFICATION'].value_counts()"
   ]
  },
  {
   "cell_type": "code",
   "execution_count": 69,
   "metadata": {
    "colab": {
     "base_uri": "https://localhost:8080/"
    },
    "id": "IZ9DjNzV7CQh",
    "outputId": "88e37bce-c905-4c71-ccd6-192ff540e076"
   },
   "outputs": [
    {
     "data": {
      "text/plain": [
       "260"
      ]
     },
     "execution_count": 69,
     "metadata": {},
     "output_type": "execute_result"
    }
   ],
   "source": [
    "# Convert categorical data to numeric with `pd.get_dummies`\n",
    "df_encode = pd.get_dummies(application_df)\n",
    "len(df_encode.columns)"
   ]
  },
  {
   "cell_type": "code",
   "execution_count": 72,
   "metadata": {
    "id": "dc2c6CT17CQh"
   },
   "outputs": [],
   "source": [
    "# Split our preprocessed data into our features and target arrays\n",
    "X = df_encode.drop('IS_SUCCESSFUL', axis=1)\n",
    "y = df_encode['IS_SUCCESSFUL']\n",
    "\n",
    "# Split the preprocessed data into a training and testing dataset\n",
    "X_train, X_test, y_train, y_test = train_test_split(X, y)"
   ]
  },
  {
   "cell_type": "code",
   "execution_count": 73,
   "metadata": {
    "id": "Pj2Yo-sp7CQi"
   },
   "outputs": [],
   "source": [
    "# Create a StandardScaler instances\n",
    "scaler = StandardScaler()\n",
    "\n",
    "# Fit the StandardScaler\n",
    "X_scaler = scaler.fit(X_train)\n",
    "\n",
    "# Scale the data\n",
    "X_train_scaled = X_scaler.transform(X_train)\n",
    "X_test_scaled = X_scaler.transform(X_test)"
   ]
  },
  {
   "cell_type": "markdown",
   "metadata": {
    "id": "CzMINPTO7CQi"
   },
   "source": [
    "## Compile, Train and Evaluate the Model"
   ]
  },
  {
   "cell_type": "code",
   "execution_count": 74,
   "metadata": {
    "colab": {
     "base_uri": "https://localhost:8080/"
    },
    "id": "cWu0yEmO7CQi",
    "outputId": "a053aabf-8f0b-4f9a-a73d-3822ce024171"
   },
   "outputs": [
    {
     "name": "stdout",
     "output_type": "stream",
     "text": [
      "Model: \"sequential_4\"\n",
      "_________________________________________________________________\n",
      " Layer (type)                Output Shape              Param #   \n",
      "=================================================================\n",
      " dense_16 (Dense)            (None, 128)               33280     \n",
      "                                                                 \n",
      " dense_17 (Dense)            (None, 64)                8256      \n",
      "                                                                 \n",
      " dense_18 (Dense)            (None, 32)                2080      \n",
      "                                                                 \n",
      " dense_19 (Dense)            (None, 1)                 33        \n",
      "                                                                 \n",
      "=================================================================\n",
      "Total params: 43,649\n",
      "Trainable params: 43,649\n",
      "Non-trainable params: 0\n",
      "_________________________________________________________________\n"
     ]
    }
   ],
   "source": [
    "# Define the model - deep neural net, i.e., the number of input features and hidden nodes for each layer.\n",
    "number_input_features = len(X_train_scaled[0])\n",
    "hidden_nodes_layer1 = 128\n",
    "hidden_nodes_layer2 = 64\n",
    "hidden_nodes_layer3 = 32\n",
    "\n",
    "nn = tf.keras.models.Sequential()\n",
    "\n",
    "# First hidden layer\n",
    "nn.add(tf.keras.layers.Dense(units=hidden_nodes_layer1, activation='relu', input_dim=number_input_features))\n",
    "\n",
    "# Second hidden layer\n",
    "nn.add(tf.keras.layers.Dense(units=hidden_nodes_layer2, activation='relu'))\n",
    "\n",
    "# Third hidden layer\n",
    "nn.add(tf.keras.layers.Dense(units=hidden_nodes_layer3, activation='relu'))\n",
    "\n",
    "# Output layer\n",
    "nn.add(tf.keras.layers.Dense(units=1, activation='sigmoid'))\n",
    "\n",
    "# Check the structure of the model\n",
    "nn.summary()"
   ]
  },
  {
   "cell_type": "code",
   "execution_count": 75,
   "metadata": {
    "id": "SHFFx0py7CQj"
   },
   "outputs": [],
   "source": [
    "# Compile the model\n",
    "nn.compile(loss='binary_crossentropy', optimizer='adam', metrics=['accuracy'])"
   ]
  },
  {
   "cell_type": "code",
   "execution_count": 76,
   "metadata": {
    "colab": {
     "base_uri": "https://localhost:8080/"
    },
    "id": "8DcrHfrp7CQj",
    "outputId": "775b6334-05c0-4506-df41-6927bae74702"
   },
   "outputs": [
    {
     "name": "stdout",
     "output_type": "stream",
     "text": [
      "Epoch 1/100\n",
      "804/804 [==============================] - 1s 779us/step - loss: 0.4711 - accuracy: 0.7706\n",
      "Epoch 2/100\n",
      "804/804 [==============================] - 1s 782us/step - loss: 0.4449 - accuracy: 0.7835\n",
      "Epoch 3/100\n",
      "804/804 [==============================] - 1s 779us/step - loss: 0.4404 - accuracy: 0.7860\n",
      "Epoch 4/100\n",
      "804/804 [==============================] - 1s 785us/step - loss: 0.4395 - accuracy: 0.7869\n",
      "Epoch 5/100\n",
      "804/804 [==============================] - 1s 779us/step - loss: 0.4376 - accuracy: 0.7866\n",
      "Epoch 6/100\n",
      "804/804 [==============================] - 1s 787us/step - loss: 0.4368 - accuracy: 0.7879\n",
      "Epoch 7/100\n",
      "804/804 [==============================] - 1s 785us/step - loss: 0.4358 - accuracy: 0.7886\n",
      "Epoch 8/100\n",
      "804/804 [==============================] - 1s 787us/step - loss: 0.4351 - accuracy: 0.7884\n",
      "Epoch 9/100\n",
      "804/804 [==============================] - 1s 779us/step - loss: 0.4340 - accuracy: 0.7893\n",
      "Epoch 10/100\n",
      "804/804 [==============================] - 1s 782us/step - loss: 0.4328 - accuracy: 0.7907\n",
      "Epoch 11/100\n",
      "804/804 [==============================] - 1s 780us/step - loss: 0.4322 - accuracy: 0.7912\n",
      "Epoch 12/100\n",
      "804/804 [==============================] - 1s 790us/step - loss: 0.4314 - accuracy: 0.7899\n",
      "Epoch 13/100\n",
      "804/804 [==============================] - 1s 786us/step - loss: 0.4310 - accuracy: 0.7907\n",
      "Epoch 14/100\n",
      "804/804 [==============================] - 1s 779us/step - loss: 0.4305 - accuracy: 0.7929\n",
      "Epoch 15/100\n",
      "804/804 [==============================] - 1s 771us/step - loss: 0.4300 - accuracy: 0.7909\n",
      "Epoch 16/100\n",
      "804/804 [==============================] - 1s 779us/step - loss: 0.4291 - accuracy: 0.7925\n",
      "Epoch 17/100\n",
      "804/804 [==============================] - 1s 775us/step - loss: 0.4285 - accuracy: 0.7924\n",
      "Epoch 18/100\n",
      "804/804 [==============================] - 1s 787us/step - loss: 0.4282 - accuracy: 0.7925\n",
      "Epoch 19/100\n",
      "804/804 [==============================] - 1s 787us/step - loss: 0.4279 - accuracy: 0.7928\n",
      "Epoch 20/100\n",
      "804/804 [==============================] - 1s 790us/step - loss: 0.4271 - accuracy: 0.7935\n",
      "Epoch 21/100\n",
      "804/804 [==============================] - 1s 786us/step - loss: 0.4267 - accuracy: 0.7932\n",
      "Epoch 22/100\n",
      "804/804 [==============================] - 1s 794us/step - loss: 0.4258 - accuracy: 0.7937\n",
      "Epoch 23/100\n",
      "804/804 [==============================] - 1s 781us/step - loss: 0.4249 - accuracy: 0.7942\n",
      "Epoch 24/100\n",
      "804/804 [==============================] - 1s 795us/step - loss: 0.4253 - accuracy: 0.7951\n",
      "Epoch 25/100\n",
      "804/804 [==============================] - 1s 784us/step - loss: 0.4243 - accuracy: 0.7945\n",
      "Epoch 26/100\n",
      "804/804 [==============================] - 1s 776us/step - loss: 0.4244 - accuracy: 0.7955\n",
      "Epoch 27/100\n",
      "804/804 [==============================] - 1s 775us/step - loss: 0.4240 - accuracy: 0.7952\n",
      "Epoch 28/100\n",
      "804/804 [==============================] - 1s 789us/step - loss: 0.4233 - accuracy: 0.7950\n",
      "Epoch 29/100\n",
      "804/804 [==============================] - 1s 791us/step - loss: 0.4236 - accuracy: 0.7946\n",
      "Epoch 30/100\n",
      "804/804 [==============================] - 1s 797us/step - loss: 0.4228 - accuracy: 0.7955\n",
      "Epoch 31/100\n",
      "804/804 [==============================] - 1s 825us/step - loss: 0.4228 - accuracy: 0.7956\n",
      "Epoch 32/100\n",
      "804/804 [==============================] - 1s 789us/step - loss: 0.4219 - accuracy: 0.7956\n",
      "Epoch 33/100\n",
      "804/804 [==============================] - 1s 794us/step - loss: 0.4218 - accuracy: 0.7956\n",
      "Epoch 34/100\n",
      "804/804 [==============================] - 1s 797us/step - loss: 0.4212 - accuracy: 0.7963\n",
      "Epoch 35/100\n",
      "804/804 [==============================] - 1s 787us/step - loss: 0.4216 - accuracy: 0.7955\n",
      "Epoch 36/100\n",
      "804/804 [==============================] - 1s 800us/step - loss: 0.4213 - accuracy: 0.7956\n",
      "Epoch 37/100\n",
      "804/804 [==============================] - 1s 795us/step - loss: 0.4207 - accuracy: 0.7962\n",
      "Epoch 38/100\n",
      "804/804 [==============================] - 1s 790us/step - loss: 0.4204 - accuracy: 0.7963\n",
      "Epoch 39/100\n",
      "804/804 [==============================] - 1s 792us/step - loss: 0.4205 - accuracy: 0.7956\n",
      "Epoch 40/100\n",
      "804/804 [==============================] - 1s 791us/step - loss: 0.4205 - accuracy: 0.7970\n",
      "Epoch 41/100\n",
      "804/804 [==============================] - 1s 789us/step - loss: 0.4196 - accuracy: 0.7971\n",
      "Epoch 42/100\n",
      "804/804 [==============================] - 1s 791us/step - loss: 0.4199 - accuracy: 0.7960\n",
      "Epoch 43/100\n",
      "804/804 [==============================] - 1s 780us/step - loss: 0.4201 - accuracy: 0.7961\n",
      "Epoch 44/100\n",
      "804/804 [==============================] - 1s 794us/step - loss: 0.4189 - accuracy: 0.7968\n",
      "Epoch 45/100\n",
      "804/804 [==============================] - 1s 791us/step - loss: 0.4195 - accuracy: 0.7970\n",
      "Epoch 46/100\n",
      "804/804 [==============================] - 1s 784us/step - loss: 0.4190 - accuracy: 0.7983\n",
      "Epoch 47/100\n",
      "804/804 [==============================] - 1s 786us/step - loss: 0.4190 - accuracy: 0.7979\n",
      "Epoch 48/100\n",
      "804/804 [==============================] - 1s 792us/step - loss: 0.4186 - accuracy: 0.7973\n",
      "Epoch 49/100\n",
      "804/804 [==============================] - 1s 801us/step - loss: 0.4184 - accuracy: 0.7986\n",
      "Epoch 50/100\n",
      "804/804 [==============================] - 1s 791us/step - loss: 0.4184 - accuracy: 0.7973\n",
      "Epoch 51/100\n",
      "804/804 [==============================] - 1s 777us/step - loss: 0.4188 - accuracy: 0.7974\n",
      "Epoch 52/100\n",
      "804/804 [==============================] - 1s 789us/step - loss: 0.4184 - accuracy: 0.7980\n",
      "Epoch 53/100\n",
      "804/804 [==============================] - 1s 786us/step - loss: 0.4178 - accuracy: 0.7978\n",
      "Epoch 54/100\n",
      "804/804 [==============================] - 1s 794us/step - loss: 0.4179 - accuracy: 0.7973\n",
      "Epoch 55/100\n",
      "804/804 [==============================] - 1s 816us/step - loss: 0.4178 - accuracy: 0.7979\n",
      "Epoch 56/100\n",
      "804/804 [==============================] - 1s 806us/step - loss: 0.4176 - accuracy: 0.7975\n",
      "Epoch 57/100\n",
      "804/804 [==============================] - 1s 800us/step - loss: 0.4168 - accuracy: 0.7968\n",
      "Epoch 58/100\n",
      "804/804 [==============================] - 1s 806us/step - loss: 0.4172 - accuracy: 0.7983\n",
      "Epoch 59/100\n",
      "804/804 [==============================] - 1s 799us/step - loss: 0.4166 - accuracy: 0.7970\n",
      "Epoch 60/100\n",
      "804/804 [==============================] - 1s 792us/step - loss: 0.4166 - accuracy: 0.7973\n",
      "Epoch 61/100\n",
      "804/804 [==============================] - 1s 804us/step - loss: 0.4165 - accuracy: 0.7984\n",
      "Epoch 62/100\n",
      "804/804 [==============================] - 1s 812us/step - loss: 0.4170 - accuracy: 0.7983\n",
      "Epoch 63/100\n",
      "804/804 [==============================] - 1s 797us/step - loss: 0.4171 - accuracy: 0.7982\n",
      "Epoch 64/100\n",
      "804/804 [==============================] - 1s 792us/step - loss: 0.4166 - accuracy: 0.7984\n",
      "Epoch 65/100\n",
      "804/804 [==============================] - 1s 787us/step - loss: 0.4162 - accuracy: 0.7982\n",
      "Epoch 66/100\n",
      "804/804 [==============================] - 1s 800us/step - loss: 0.4163 - accuracy: 0.7977\n",
      "Epoch 67/100\n",
      "804/804 [==============================] - 1s 789us/step - loss: 0.4157 - accuracy: 0.7977\n",
      "Epoch 68/100\n",
      "804/804 [==============================] - 1s 789us/step - loss: 0.4161 - accuracy: 0.7977\n",
      "Epoch 69/100\n",
      "804/804 [==============================] - 1s 789us/step - loss: 0.4168 - accuracy: 0.7977\n",
      "Epoch 70/100\n",
      "804/804 [==============================] - 1s 787us/step - loss: 0.4163 - accuracy: 0.7982\n",
      "Epoch 71/100\n",
      "804/804 [==============================] - 1s 795us/step - loss: 0.4156 - accuracy: 0.7987\n",
      "Epoch 72/100\n",
      "804/804 [==============================] - 1s 799us/step - loss: 0.4155 - accuracy: 0.7987\n",
      "Epoch 73/100\n",
      "804/804 [==============================] - 1s 796us/step - loss: 0.4173 - accuracy: 0.7977\n",
      "Epoch 74/100\n",
      "804/804 [==============================] - 1s 794us/step - loss: 0.4156 - accuracy: 0.7985\n",
      "Epoch 75/100\n",
      "804/804 [==============================] - 1s 814us/step - loss: 0.4152 - accuracy: 0.7977\n",
      "Epoch 76/100\n",
      "804/804 [==============================] - 1s 818us/step - loss: 0.4164 - accuracy: 0.7980\n",
      "Epoch 77/100\n",
      "804/804 [==============================] - 1s 802us/step - loss: 0.4157 - accuracy: 0.7984\n",
      "Epoch 78/100\n",
      "804/804 [==============================] - 1s 810us/step - loss: 0.4151 - accuracy: 0.7989\n",
      "Epoch 79/100\n"
     ]
    },
    {
     "name": "stdout",
     "output_type": "stream",
     "text": [
      "804/804 [==============================] - 1s 805us/step - loss: 0.4148 - accuracy: 0.7985\n",
      "Epoch 80/100\n",
      "804/804 [==============================] - 1s 804us/step - loss: 0.4154 - accuracy: 0.7986\n",
      "Epoch 81/100\n",
      "804/804 [==============================] - 1s 807us/step - loss: 0.4156 - accuracy: 0.7984\n",
      "Epoch 82/100\n",
      "804/804 [==============================] - 1s 807us/step - loss: 0.4157 - accuracy: 0.7980\n",
      "Epoch 83/100\n",
      "804/804 [==============================] - 1s 800us/step - loss: 0.4152 - accuracy: 0.7994\n",
      "Epoch 84/100\n",
      "804/804 [==============================] - 1s 790us/step - loss: 0.4162 - accuracy: 0.7981\n",
      "Epoch 85/100\n",
      "804/804 [==============================] - 1s 804us/step - loss: 0.4147 - accuracy: 0.7978\n",
      "Epoch 86/100\n",
      "804/804 [==============================] - 1s 789us/step - loss: 0.4146 - accuracy: 0.7987\n",
      "Epoch 87/100\n",
      "804/804 [==============================] - 1s 779us/step - loss: 0.4149 - accuracy: 0.7987\n",
      "Epoch 88/100\n",
      "804/804 [==============================] - 1s 789us/step - loss: 0.4142 - accuracy: 0.7984\n",
      "Epoch 89/100\n",
      "804/804 [==============================] - 1s 780us/step - loss: 0.4149 - accuracy: 0.7990\n",
      "Epoch 90/100\n",
      "804/804 [==============================] - 1s 779us/step - loss: 0.4142 - accuracy: 0.7989\n",
      "Epoch 91/100\n",
      "804/804 [==============================] - 1s 790us/step - loss: 0.4144 - accuracy: 0.7993\n",
      "Epoch 92/100\n",
      "804/804 [==============================] - 1s 779us/step - loss: 0.4142 - accuracy: 0.7991\n",
      "Epoch 93/100\n",
      "804/804 [==============================] - 1s 782us/step - loss: 0.4152 - accuracy: 0.7985\n",
      "Epoch 94/100\n",
      "804/804 [==============================] - 1s 781us/step - loss: 0.4147 - accuracy: 0.7987\n",
      "Epoch 95/100\n",
      "804/804 [==============================] - 1s 782us/step - loss: 0.4141 - accuracy: 0.7984\n",
      "Epoch 96/100\n",
      "804/804 [==============================] - 1s 787us/step - loss: 0.4145 - accuracy: 0.7993\n",
      "Epoch 97/100\n",
      "804/804 [==============================] - 1s 790us/step - loss: 0.4144 - accuracy: 0.7986\n",
      "Epoch 98/100\n",
      "804/804 [==============================] - 1s 777us/step - loss: 0.4140 - accuracy: 0.7993\n",
      "Epoch 99/100\n",
      "804/804 [==============================] - 1s 776us/step - loss: 0.4142 - accuracy: 0.7986\n",
      "Epoch 100/100\n",
      "804/804 [==============================] - 1s 780us/step - loss: 0.4153 - accuracy: 0.7985\n"
     ]
    }
   ],
   "source": [
    "# Train the model\n",
    "fit_model = nn.fit(X_train_scaled, y_train, epochs=100)"
   ]
  },
  {
   "cell_type": "code",
   "execution_count": 77,
   "metadata": {
    "colab": {
     "base_uri": "https://localhost:8080/"
    },
    "id": "UHD8cf8j7CQj",
    "outputId": "586e68cc-de0f-426e-ddb5-29c73ad896d3"
   },
   "outputs": [
    {
     "name": "stdout",
     "output_type": "stream",
     "text": [
      "268/268 - 0s - loss: 0.5160 - accuracy: 0.7857 - 210ms/epoch - 785us/step\n",
      "Loss: 0.5160185098648071, Accuracy: 0.7856559753417969\n"
     ]
    }
   ],
   "source": [
    "# Evaluate the model using the test data\n",
    "model_loss, model_accuracy = nn.evaluate(X_test_scaled,y_test,verbose=2)\n",
    "print(f\"Loss: {model_loss}, Accuracy: {model_accuracy}\")"
   ]
  },
  {
   "cell_type": "code",
   "execution_count": 97,
   "metadata": {},
   "outputs": [],
   "source": [
    "nn.save('AlphabetSoupCharity_Optimization.h5')"
   ]
  },
  {
   "cell_type": "markdown",
   "metadata": {},
   "source": [
    "## Using kerastuner to search for optimal parameters"
   ]
  },
  {
   "cell_type": "code",
   "execution_count": 92,
   "metadata": {},
   "outputs": [],
   "source": [
    "# Create a method that creates a new Sequential model with hyperparameter options\n",
    "def create_model(hp):\n",
    "    nn_model = tf.keras.models.Sequential()\n",
    "\n",
    "    # Allow kerastuner to decide which activation function to use in hidden layers\n",
    "    activation = hp.Choice('activation',['relu','tanh'])\n",
    "    \n",
    "    # Allow kerastuner to decide number of neurons in first layer\n",
    "    nn_model.add(tf.keras.layers.Dense(units=hp.Int('first_units',\n",
    "        min_value=32,\n",
    "        max_value=256,\n",
    "        step=8), activation=activation, input_dim=259))\n",
    "\n",
    "    # Allow kerastuner to decide number of hidden layers and neurons in hidden layers\n",
    "    for i in range(hp.Int('num_layers', 1, 5)):\n",
    "        nn_model.add(tf.keras.layers.Dense(units=hp.Int('units_' + str(i),\n",
    "            min_value=0,\n",
    "            max_value=128,\n",
    "            step=4),\n",
    "            activation=activation))\n",
    "    \n",
    "    nn_model.add(tf.keras.layers.Dense(units=1, activation=\"sigmoid\"))\n",
    "\n",
    "    # Compile the model\n",
    "    nn_model.compile(loss=\"binary_crossentropy\", optimizer='adam', metrics=[\"accuracy\"])\n",
    "    \n",
    "    return nn_model"
   ]
  },
  {
   "cell_type": "code",
   "execution_count": 93,
   "metadata": {},
   "outputs": [
    {
     "name": "stdout",
     "output_type": "stream",
     "text": [
      "INFO:tensorflow:Reloading Oracle from existing project .\\untitled_project\\oracle.json\n"
     ]
    }
   ],
   "source": [
    "# Import the kerastuner library\n",
    "import keras_tuner as kt\n",
    "\n",
    "tuner = kt.Hyperband(\n",
    "    create_model,\n",
    "    objective=\"val_accuracy\",\n",
    "    max_epochs=20,\n",
    "    hyperband_iterations=2)"
   ]
  },
  {
   "cell_type": "code",
   "execution_count": 94,
   "metadata": {},
   "outputs": [
    {
     "name": "stdout",
     "output_type": "stream",
     "text": [
      "Trial 60 Complete [00h 00m 16s]\n",
      "val_accuracy: 0.787405252456665\n",
      "\n",
      "Best val_accuracy So Far: 0.787405252456665\n",
      "Total elapsed time: 00h 07m 09s\n",
      "INFO:tensorflow:Oracle triggered exit\n"
     ]
    }
   ],
   "source": [
    "# Run the kerastuner search for best hyperparameters\n",
    "tuner.search(X_train_scaled,y_train,epochs=20,validation_data=(X_test_scaled,y_test))"
   ]
  },
  {
   "cell_type": "code",
   "execution_count": 95,
   "metadata": {},
   "outputs": [],
   "source": [
    "top_hyper = tuner.get_best_hyperparameters(3)"
   ]
  },
  {
   "cell_type": "code",
   "execution_count": 96,
   "metadata": {},
   "outputs": [
    {
     "name": "stdout",
     "output_type": "stream",
     "text": [
      "{'activation': 'relu', 'first_units': 88, 'num_layers': 4, 'units_0': 29, 'units_1': 52, 'units_2': 24, 'units_3': 28, 'units_4': 108, 'tuner/epochs': 20, 'tuner/initial_epoch': 0, 'tuner/bracket': 0, 'tuner/round': 0}\n",
      "{'activation': 'tanh', 'first_units': 128, 'num_layers': 1, 'units_0': 93, 'units_1': 28, 'units_2': 16, 'units_3': 52, 'units_4': 16, 'tuner/epochs': 20, 'tuner/initial_epoch': 0, 'tuner/bracket': 0, 'tuner/round': 0}\n",
      "{'activation': 'relu', 'first_units': 80, 'num_layers': 4, 'units_0': 17, 'units_1': 60, 'units_2': 12, 'units_3': 64, 'units_4': 92, 'tuner/epochs': 20, 'tuner/initial_epoch': 7, 'tuner/bracket': 2, 'tuner/round': 2, 'tuner/trial_id': '0042'}\n"
     ]
    }
   ],
   "source": [
    "for x in top_hyper:\n",
    "    print(x.values)"
   ]
  },
  {
   "cell_type": "code",
   "execution_count": null,
   "metadata": {},
   "outputs": [],
   "source": []
  }
 ],
 "metadata": {
  "colab": {
   "collapsed_sections": [],
   "name": "Starter_Code-checkpoint.ipynb",
   "provenance": []
  },
  "kernelspec": {
   "display_name": "Python 3 (ipykernel)",
   "language": "python",
   "name": "python3"
  },
  "language_info": {
   "codemirror_mode": {
    "name": "ipython",
    "version": 3
   },
   "file_extension": ".py",
   "mimetype": "text/x-python",
   "name": "python",
   "nbconvert_exporter": "python",
   "pygments_lexer": "ipython3",
   "version": "3.9.7"
  }
 },
 "nbformat": 4,
 "nbformat_minor": 1
}
